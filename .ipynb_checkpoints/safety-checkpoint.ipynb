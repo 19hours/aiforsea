{
 "cells": [
  {
   "cell_type": "markdown",
   "metadata": {},
   "source": [
    "Coded by Kevin Chu @ github.com/19hours for GRAB AI CHALLENGE"
   ]
  },
  {
   "cell_type": "markdown",
   "metadata": {},
   "source": [
    "## Importing all data"
   ]
  },
  {
   "cell_type": "code",
   "execution_count": 82,
   "metadata": {},
   "outputs": [
    {
     "name": "stdout",
     "output_type": "stream",
     "text": [
      "<class 'pandas.core.frame.DataFrame'>\n",
      "Int64Index: 16135561 entries, 0 to 1613552\n",
      "Data columns (total 11 columns):\n",
      "bookingID         int64\n",
      "Accuracy          float64\n",
      "Bearing           float64\n",
      "acceleration_x    float64\n",
      "acceleration_y    float64\n",
      "acceleration_z    float64\n",
      "gyro_x            float64\n",
      "gyro_y            float64\n",
      "gyro_z            float64\n",
      "second            float64\n",
      "Speed             float64\n",
      "dtypes: float64(10), int64(1)\n",
      "memory usage: 1.4 GB\n"
     ]
    }
   ],
   "source": [
    "import pandas as pd\n",
    "import numpy as np\n",
    "import glob\n",
    "\n",
    "csv_files = glob.glob(\"safety/features/*.csv\")\n",
    "\n",
    "df_list = []\n",
    "\n",
    "for csv in csv_files:\n",
    "    df_list.append(pd.read_csv(csv))\n",
    "    \n",
    "df = pd.concat(df_list)\n",
    "df.info()\n",
    "df.head()\n",
    "\n",
    "labels = pd.read_csv(\"safety/labels/part-00000-e9445087-aa0a-433b-a7f6-7f4c19d78ad6-c000.csv\")"
   ]
  },
  {
   "cell_type": "markdown",
   "metadata": {},
   "source": [
    "## Removing duplicate labels"
   ]
  },
  {
   "cell_type": "code",
   "execution_count": 83,
   "metadata": {},
   "outputs": [],
   "source": [
    "labels.drop_duplicates(subset='bookingID' , keep=False, inplace=True)"
   ]
  },
  {
   "cell_type": "markdown",
   "metadata": {},
   "source": [
    "## Merging dataset and labels"
   ]
  },
  {
   "cell_type": "code",
   "execution_count": 84,
   "metadata": {
    "scrolled": true
   },
   "outputs": [
    {
     "data": {
      "text/html": [
       "<div>\n",
       "<style scoped>\n",
       "    .dataframe tbody tr th:only-of-type {\n",
       "        vertical-align: middle;\n",
       "    }\n",
       "\n",
       "    .dataframe tbody tr th {\n",
       "        vertical-align: top;\n",
       "    }\n",
       "\n",
       "    .dataframe thead th {\n",
       "        text-align: right;\n",
       "    }\n",
       "</style>\n",
       "<table border=\"1\" class=\"dataframe\">\n",
       "  <thead>\n",
       "    <tr style=\"text-align: right;\">\n",
       "      <th></th>\n",
       "      <th>bookingID</th>\n",
       "      <th>Accuracy</th>\n",
       "      <th>Bearing</th>\n",
       "      <th>acceleration_x</th>\n",
       "      <th>acceleration_y</th>\n",
       "      <th>acceleration_z</th>\n",
       "      <th>gyro_x</th>\n",
       "      <th>gyro_y</th>\n",
       "      <th>gyro_z</th>\n",
       "      <th>second</th>\n",
       "      <th>Speed</th>\n",
       "      <th>label</th>\n",
       "    </tr>\n",
       "  </thead>\n",
       "  <tbody>\n",
       "    <tr>\n",
       "      <th>0</th>\n",
       "      <td>1194000908341</td>\n",
       "      <td>4.000</td>\n",
       "      <td>203.000000</td>\n",
       "      <td>1.001973</td>\n",
       "      <td>9.745000</td>\n",
       "      <td>-0.790087</td>\n",
       "      <td>-0.066046</td>\n",
       "      <td>0.019175</td>\n",
       "      <td>0.044741</td>\n",
       "      <td>246.0</td>\n",
       "      <td>6.480000</td>\n",
       "      <td>1.0</td>\n",
       "    </tr>\n",
       "    <tr>\n",
       "      <th>1</th>\n",
       "      <td>1099511627891</td>\n",
       "      <td>3.000</td>\n",
       "      <td>311.000000</td>\n",
       "      <td>0.452518</td>\n",
       "      <td>9.273026</td>\n",
       "      <td>3.098191</td>\n",
       "      <td>0.005382</td>\n",
       "      <td>0.002155</td>\n",
       "      <td>-0.001436</td>\n",
       "      <td>66.0</td>\n",
       "      <td>0.340365</td>\n",
       "      <td>0.0</td>\n",
       "    </tr>\n",
       "    <tr>\n",
       "      <th>2</th>\n",
       "      <td>962072674446</td>\n",
       "      <td>10.000</td>\n",
       "      <td>142.807999</td>\n",
       "      <td>0.018542</td>\n",
       "      <td>-8.041156</td>\n",
       "      <td>-4.960114</td>\n",
       "      <td>0.004223</td>\n",
       "      <td>-0.014875</td>\n",
       "      <td>0.007397</td>\n",
       "      <td>1552.0</td>\n",
       "      <td>2.050000</td>\n",
       "      <td>0.0</td>\n",
       "    </tr>\n",
       "    <tr>\n",
       "      <th>3</th>\n",
       "      <td>1142461300867</td>\n",
       "      <td>8.000</td>\n",
       "      <td>171.205292</td>\n",
       "      <td>-0.290698</td>\n",
       "      <td>-8.295367</td>\n",
       "      <td>-3.049042</td>\n",
       "      <td>0.033618</td>\n",
       "      <td>0.046224</td>\n",
       "      <td>0.030559</td>\n",
       "      <td>277.0</td>\n",
       "      <td>17.608448</td>\n",
       "      <td>0.0</td>\n",
       "    </tr>\n",
       "    <tr>\n",
       "      <th>4</th>\n",
       "      <td>412316860548</td>\n",
       "      <td>19.379</td>\n",
       "      <td>0.000000</td>\n",
       "      <td>0.675613</td>\n",
       "      <td>8.846130</td>\n",
       "      <td>1.852508</td>\n",
       "      <td>-0.008652</td>\n",
       "      <td>0.003693</td>\n",
       "      <td>0.001160</td>\n",
       "      <td>148.0</td>\n",
       "      <td>0.000000</td>\n",
       "      <td>0.0</td>\n",
       "    </tr>\n",
       "  </tbody>\n",
       "</table>\n",
       "</div>"
      ],
      "text/plain": [
       "       bookingID  Accuracy     Bearing  acceleration_x  acceleration_y  \\\n",
       "0  1194000908341     4.000  203.000000        1.001973        9.745000   \n",
       "1  1099511627891     3.000  311.000000        0.452518        9.273026   \n",
       "2   962072674446    10.000  142.807999        0.018542       -8.041156   \n",
       "3  1142461300867     8.000  171.205292       -0.290698       -8.295367   \n",
       "4   412316860548    19.379    0.000000        0.675613        8.846130   \n",
       "\n",
       "   acceleration_z    gyro_x    gyro_y    gyro_z  second      Speed  label  \n",
       "0       -0.790087 -0.066046  0.019175  0.044741   246.0   6.480000    1.0  \n",
       "1        3.098191  0.005382  0.002155 -0.001436    66.0   0.340365    0.0  \n",
       "2       -4.960114  0.004223 -0.014875  0.007397  1552.0   2.050000    0.0  \n",
       "3       -3.049042  0.033618  0.046224  0.030559   277.0  17.608448    0.0  \n",
       "4        1.852508 -0.008652  0.003693  0.001160   148.0   0.000000    0.0  "
      ]
     },
     "execution_count": 84,
     "metadata": {},
     "output_type": "execute_result"
    }
   ],
   "source": [
    "df = pd.merge(df, labels, on=\"bookingID\", how=\"left\")\n",
    "df.head()"
   ]
  },
  {
   "cell_type": "markdown",
   "metadata": {},
   "source": [
    "## Removing data without labels "
   ]
  },
  {
   "cell_type": "code",
   "execution_count": 85,
   "metadata": {},
   "outputs": [
    {
     "name": "stdout",
     "output_type": "stream",
     "text": [
      "<class 'pandas.core.frame.DataFrame'>\n",
      "Int64Index: 16116704 entries, 0 to 16135560\n",
      "Data columns (total 12 columns):\n",
      "bookingID         int64\n",
      "Accuracy          float64\n",
      "Bearing           float64\n",
      "acceleration_x    float64\n",
      "acceleration_y    float64\n",
      "acceleration_z    float64\n",
      "gyro_x            float64\n",
      "gyro_y            float64\n",
      "gyro_z            float64\n",
      "second            float64\n",
      "Speed             float64\n",
      "label             float64\n",
      "dtypes: float64(11), int64(1)\n",
      "memory usage: 1.6 GB\n"
     ]
    }
   ],
   "source": [
    "df.dropna(how='any', inplace=True)\n",
    "df.isnull().sum()\n",
    "df.info()"
   ]
  },
  {
   "cell_type": "markdown",
   "metadata": {},
   "source": [
    "## Removing data with GPS Accuracy > 30m\n",
    "\n",
    "According to a study by Findyr and placeIQ, the average mobile location data is accurate to 30m.\n",
    "\n",
    "https://www.placeiq.com/2016/10/location-data-accuracy-the-fast-factors/"
   ]
  },
  {
   "cell_type": "code",
   "execution_count": 86,
   "metadata": {},
   "outputs": [
    {
     "name": "stdout",
     "output_type": "stream",
     "text": [
      "<class 'pandas.core.frame.DataFrame'>\n",
      "Int64Index: 15690835 entries, 0 to 16135560\n",
      "Data columns (total 12 columns):\n",
      "bookingID         int64\n",
      "Accuracy          float64\n",
      "Bearing           float64\n",
      "acceleration_x    float64\n",
      "acceleration_y    float64\n",
      "acceleration_z    float64\n",
      "gyro_x            float64\n",
      "gyro_y            float64\n",
      "gyro_z            float64\n",
      "second            float64\n",
      "Speed             float64\n",
      "label             float64\n",
      "dtypes: float64(11), int64(1)\n",
      "memory usage: 1.5 GB\n"
     ]
    }
   ],
   "source": [
    "df = df[df[\"Accuracy\"] < 30]\n",
    "df.info()"
   ]
  },
  {
   "cell_type": "markdown",
   "metadata": {},
   "source": [
    "## Feature Engineering\n",
    "\n",
    "Jerk is defined as a change in acceleration over time. Acceleration and Jerk have to be kept to a minimal for a safe ride.\n",
    "\n",
    "1. Maximum Jerk m/s3\n",
    "2. Minimum Jerk m/s3\n",
    "3. Average Jerk m/s3\n",
    "\n",
    "\n",
    "4. Maximum Angular Acceleration rad/s2\n",
    "5. Minimum Angular Acceleration rad/s2\n",
    "6. Average Angular Acceleration rad/s2\n",
    "\n",
    "\n",
    "7. Maximum Acceleration m/s2\n",
    "8. Minimum Acceleration m/s2\n",
    "9. Average Acceleration m/s2\n",
    "\n",
    "10. Duration s\n",
    "11. Distance m\n",
    "12. Max Speed m/s\n",
    "13. Average Speed m/s"
   ]
  },
  {
   "cell_type": "code",
   "execution_count": 201,
   "metadata": {},
   "outputs": [
    {
     "name": "stdout",
     "output_type": "stream",
     "text": [
      "<class 'pandas.core.frame.DataFrame'>\n",
      "RangeIndex: 19952 entries, 0 to 19951\n",
      "Data columns (total 15 columns):\n",
      "bookingID                   19952 non-null float64\n",
      "Duration                    19952 non-null float64\n",
      "Distance                    19952 non-null float64\n",
      "Max_Speed                   19952 non-null float64\n",
      "Avg_Speed                   19952 non-null float64\n",
      "Max_Acceleration            19952 non-null float64\n",
      "Min_Acceleration            19952 non-null float64\n",
      "Avg_Acceleration            19952 non-null float64\n",
      "Max_Jerk                    19952 non-null float64\n",
      "Min_Jerk                    19952 non-null float64\n",
      "Avg_Jerk                    19952 non-null float64\n",
      "Max_Angular_Acceleration    19952 non-null float64\n",
      "Min_Angular_Acceleration    19952 non-null float64\n",
      "Avg_Angular_Acceleration    19952 non-null float64\n",
      "Dangerous_Trip              19952 non-null float64\n",
      "dtypes: float64(15)\n",
      "memory usage: 2.3 MB\n"
     ]
    }
   ],
   "source": [
    "training_df = pd.DataFrame(columns=[\"bookingID\", \"Duration\", \"Distance\", \"Max_Speed\", \"Avg_Speed\", \"Max_Acceleration\", \"Min_Acceleration\", \"Avg_Acceleration\", \"Max_Jerk\", \"Min_Jerk\", \"Avg_Jerk\", \"Max_Angular_Acceleration\", \"Min_Angular_Acceleration\", \"Avg_Angular_Acceleration\", \"Dangerous_Trip\"])\n",
    "\n",
    "bookingIDs = df[\"bookingID\"].unique().tolist()\n",
    "for booking in bookingIDs:\n",
    "    first_row = True\n",
    "    count = 0\n",
    "    max_speed = total_speed = avg_speed = max_jerk = min_jerk = avg_jerk = total_jerk = max_aa = min_aa = avg_aa = total_aa = avg_acceleration = total_acceleration = max_acceleration = min_acceleration = float(0)\n",
    "    tmp_df = df.loc[df['bookingID'] == booking].sort_values(\"second\")\n",
    "    tmp_list = tmp_df.values.tolist()\n",
    "    while count < len(tmp_list)-1:\n",
    "        curr_row = tmp_list[count]\n",
    "        next_row = tmp_list[count+1]\n",
    "        \n",
    "        # Calculating Jerk = Change in Acceleration over time\n",
    "        acceleration = np.sqrt(curr_row[3]**2 + curr_row[4]**2 + curr_row[5]**2)\n",
    "        next_acceleration = np.sqrt(next_row[3]**2 + next_row[4]**2 + next_row[5]**2)\n",
    "        jerk = (next_acceleration-acceleration)/(next_row[9]-curr_row[9])\n",
    "        \n",
    "        # Calculating Angular Acceleration\n",
    "        aa = np.sqrt(curr_row[6]**2 + curr_row[7]**2 + curr_row[8]**2)\n",
    "        next_aa = np.sqrt(next_row[6]**2 + next_row[7]**2 + next_row[8]**2)\n",
    "        c_aa = (next_aa-aa)/(next_row[9]-curr_row[9])\n",
    "        \n",
    "        if first_row:\n",
    "            max_jerk = min_jerk = jerk\n",
    "            max_aa = min_aa = c_aa\n",
    "            max_acceleration = min_acceleration = acceleration\n",
    "            max_speed = curr_row[10]\n",
    "            first_row = False\n",
    "        else:\n",
    "            if jerk > max_jerk:\n",
    "                max_jerk = jerk\n",
    "            if jerk < min_jerk:\n",
    "                min_jerk = jerk\n",
    "            if c_aa > max_aa:\n",
    "                max_aa = c_aa\n",
    "            if c_aa < min_aa:\n",
    "                min_aa = c_aa\n",
    "            if acceleration > max_acceleration:\n",
    "                max_acceleration = acceleration\n",
    "            if acceleration < max_acceleration:\n",
    "                min_acceleration = acceleration\n",
    "            if curr_row[10] > max_speed:\n",
    "                max_speed = curr_row[10]\n",
    "        \n",
    "        total_acceleration += acceleration\n",
    "        total_jerk += jerk\n",
    "        total_aa += c_aa\n",
    "        total_speed += curr_row[10]\n",
    "        count += 1\n",
    "    \n",
    "    # Add last row\n",
    "    last_row = tmp_list[count]\n",
    "    total_acceleration += np.sqrt(last_row[3]**2 + last_row[4]**2 + last_row[5]**2)\n",
    "    total_speed += last_row[10]\n",
    "    \n",
    "    avg_jerk = total_jerk / len(tmp_list)-1\n",
    "    avg_aa = total_aa / len(tmp_list)-1\n",
    "    avg_acceleration = total_acceleration / len(tmp_list)\n",
    "    avg_speed = total_speed / len(tmp_list)\n",
    "    duration = last_row[9]\n",
    "    distance = duration * avg_speed\n",
    "    \n",
    "    training_df = training_df.append({\"bookingID\": booking, \"Duration\": duration, \"Distance\": distance, \"Max_Speed\": max_speed, \"Avg_Speed\": avg_speed, \"Max_Acceleration\": max_acceleration, \"Min_Acceleration\": min_acceleration, \"Avg_Acceleration\": avg_acceleration, \"Max_Jerk\": max_jerk, \"Min_Jerk\": min_jerk, \"Avg_Jerk\": avg_jerk, \"Max_Angular_Acceleration\": max_aa, \"Min_Angular_Acceleration\": min_aa, \"Avg_Angular_Acceleration\": avg_aa, \"Dangerous_Trip\": tmp_list[0][11]}, ignore_index=True)\n",
    "    \n",
    "training_df.info()\n",
    "    "
   ]
  },
  {
   "cell_type": "markdown",
   "metadata": {},
   "source": [
    "## Constructing the Classification Model"
   ]
  },
  {
   "cell_type": "code",
   "execution_count": 202,
   "metadata": {},
   "outputs": [
    {
     "name": "stdout",
     "output_type": "stream",
     "text": [
      "Number transactions X_train dataset:  (13966, 10)\n",
      "Number transactions y_train dataset:  (13966,)\n",
      "Number transactions X_test dataset:  (5986, 10)\n",
      "Number transactions y_test dataset:  (5986,)\n"
     ]
    },
    {
     "data": {
      "text/plain": [
       "RandomForestClassifier(bootstrap=True, class_weight=None, criterion='entropy',\n",
       "                       max_depth=None, max_features='sqrt', max_leaf_nodes=None,\n",
       "                       min_impurity_decrease=0.0, min_impurity_split=None,\n",
       "                       min_samples_leaf=50, min_samples_split=2,\n",
       "                       min_weight_fraction_leaf=0.0, n_estimators=100,\n",
       "                       n_jobs=None, oob_score=False, random_state=None,\n",
       "                       verbose=0, warm_start=False)"
      ]
     },
     "execution_count": 202,
     "metadata": {},
     "output_type": "execute_result"
    }
   ],
   "source": [
    "from sklearn.ensemble import RandomForestClassifier\n",
    "from sklearn.model_selection import train_test_split\n",
    "\n",
    "clf = RandomForestClassifier(n_estimators=100, criterion=\"entropy\", min_samples_leaf=50, max_features=\"sqrt\")\n",
    "X = training_df[[\"Duration\", \"Distance\", \"Max_Speed\", \"Avg_Speed\", \"Max_Acceleration\", \"Min_Acceleration\", \"Max_Jerk\", \"Min_Jerk\", \"Max_Angular_Acceleration\", \"Min_Angular_Acceleration\"]]\n",
    "y = training_df[\"Dangerous_Trip\"]\n",
    "X_train, X_test, y_train, y_test = train_test_split(X, y, test_size=0.3, random_state=42)"
   ]
  },
  {
   "cell_type": "markdown",
   "metadata": {},
   "source": [
    "## Oversample the data\n",
    "\n",
    "Oversampling the data to account for unbalanced dataset that is 3:1 for safe driving to dangerous driving."
   ]
  },
  {
   "cell_type": "code",
   "execution_count": null,
   "metadata": {},
   "outputs": [],
   "source": [
    "from imblearn.over_sampling import SMOTE\n",
    "sm = SMOTE(random_state=2)\n",
    "X_train_res, y_train_res = sm.fit_sample(X_train, y_train.ravel())"
   ]
  },
  {
   "cell_type": "markdown",
   "metadata": {},
   "source": [
    "## Train the model"
   ]
  },
  {
   "cell_type": "code",
   "execution_count": null,
   "metadata": {},
   "outputs": [],
   "source": [
    "clf.fit(X_train_res, y_train_res)"
   ]
  },
  {
   "cell_type": "markdown",
   "metadata": {},
   "source": [
    "## Obtaining the accuracy and AUROC of model"
   ]
  },
  {
   "cell_type": "code",
   "execution_count": 208,
   "metadata": {
    "scrolled": true
   },
   "outputs": [
    {
     "name": "stdout",
     "output_type": "stream",
     "text": [
      "AUC: 0.700\n"
     ]
    },
    {
     "data": {
      "image/png": "[encoded data removed]",
      "text/plain": [
       "<Figure size 432x288 with 1 Axes>"
      ]
     },
     "metadata": {
      "needs_background": "light"
     },
     "output_type": "display_data"
    },
    {
     "name": "stdout",
     "output_type": "stream",
     "text": [
      "Accuracy: 0.678\n"
     ]
    }
   ],
   "source": [
    "from sklearn.metrics import roc_curve\n",
    "from sklearn.metrics import roc_auc_score\n",
    "from sklearn.metrics import accuracy_score\n",
    "from matplotlib import pyplot\n",
    "\n",
    "proba = clf.predict_proba(X_test)[:, 1]\n",
    "auc = roc_auc_score(y_test, proba)\n",
    "print(\"AUC: %.3f\" % auc)\n",
    "fpr, tpr, thresholds = roc_curve(y_test, proba)\n",
    "pyplot.plot([0, 1], [0, 1], linestyle='--')\n",
    "pyplot.plot(fpr, tpr, marker='.')\n",
    "pyplot.show()\n",
    "\n",
    "print(\"Accuracy: %.3f\" % accuracy_score(y_test, clf.predict(X_test)))"
   ]
  },
  {
   "cell_type": "markdown",
   "metadata": {},
   "source": [
    "## Export model"
   ]
  },
  {
   "cell_type": "code",
   "execution_count": 210,
   "metadata": {},
   "outputs": [
    {
     "data": {
      "text/plain": [
       "['./base_model.joblib']"
      ]
     },
     "execution_count": 210,
     "metadata": {},
     "output_type": "execute_result"
    }
   ],
   "source": [
    "import joblib\n",
    "\n",
    "joblib.dump(clf, './base_model.joblib')"
   ]
  }
 ],
 "metadata": {
  "kernelspec": {
   "display_name": "Python 3",
   "language": "python",
   "name": "python3"
  },
  "language_info": {
   "codemirror_mode": {
    "name": "ipython",
    "version": 3
   },
   "file_extension": ".py",
   "mimetype": "text/x-python",
   "name": "python",
   "nbconvert_exporter": "python",
   "pygments_lexer": "ipython3",
   "version": "3.7.3"
  }
 },
 "nbformat": 4,
 "nbformat_minor": 2
}
